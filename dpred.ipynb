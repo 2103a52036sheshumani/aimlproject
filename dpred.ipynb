{
 "cells": [
  {
   "cell_type": "code",
   "execution_count": 2,
   "id": "b1677da3-4caf-43f3-9ae5-6666dfb88ba2",
   "metadata": {},
   "outputs": [
    {
     "name": "stderr",
     "output_type": "stream",
     "text": [
      "C:\\Users\\vnshe\\anaconda3\\lib\\site-packages\\sklearn\\cluster\\_kmeans.py:870: FutureWarning: The default value of `n_init` will change from 10 to 'auto' in 1.4. Set the value of `n_init` explicitly to suppress the warning\n",
      "  warnings.warn(\n",
      "C:\\Users\\vnshe\\anaconda3\\lib\\site-packages\\sklearn\\cluster\\_kmeans.py:1382: UserWarning: KMeans is known to have a memory leak on Windows with MKL, when there are less chunks than available threads. You can avoid it by setting the environment variable OMP_NUM_THREADS=2.\n",
      "  warnings.warn(\n"
     ]
    }
   ],
   "source": [
    "import os\n",
    "import numpy as np\n",
    "from PIL import Image\n",
    "from sklearn.cluster import KMeans\n",
    "\n",
    "\n",
    "path_to_folder = \"C:/Users/vnshe/OneDrive/Documents/train\"\n",
    "\n",
    "\n",
    "num_clusters = 2\n",
    "\n",
    "\n",
    "images = []\n",
    "\n",
    "\n",
    "for filename in os.listdir(path_to_folder):\n",
    "    \n",
    "    if filename.endswith('.jpg') or filename.endswith('.png'):\n",
    "        \n",
    "        img = Image.open(os.path.join(path_to_folder, filename))\n",
    "        img = img.resize((100,100))\n",
    "        \n",
    "        img_array = np.array(img)\n",
    "       \n",
    "        img_array_flat = img_array.flatten()\n",
    "        \n",
    "        images.append(img_array_flat)\n",
    "\n",
    "\n",
    "X = np.array(images)\n",
    "\n",
    "\n",
    "kmeans = KMeans(n_clusters=num_clusters, random_state=0).fit(X)\n",
    "\n",
    "\n",
    "cluster_labels = kmeans.labels_\n",
    "\n",
    "\n",
    "cluster_filenames = {label: [] for label in range(num_clusters)}\n",
    "\n",
    "\n",
    "for i, filename in enumerate(os.listdir(path_to_folder)):\n",
    "    \n",
    "    if filename.endswith('.jpg') or filename.endswith('.png'):\n",
    "       \n",
    "        label = cluster_labels[i]\n",
    "  \n",
    "        cluster_filenames[label].append(filename)"
   ]
  },
  {
   "cell_type": "code",
   "execution_count": 10,
   "id": "dda3a8e8-b3c2-4e33-8bac-55be9d2fcb2d",
   "metadata": {},
   "outputs": [
    {
     "name": "stdin",
     "output_type": "stream",
     "text": [
      "Enter the filename of the image to classify:  272.png\n"
     ]
    },
    {
     "name": "stdout",
     "output_type": "stream",
     "text": [
      "The input image belongs to cluster 1\n",
      "The filenames in cluster 1 are: ['626.png', '627.png', '636.png', '637.png', '638.png', '639.png', '654.png', '655.png', '657.png', '658.png', '659.png', '660.png', '662.png', '663.png', '664.png', '668.png', '669.png', '673.png', '674.png', '675.png', '681.png', '682.png', '698.png', '701.png', '702.png', '708.png', '712.png', '715.png', '727.png', '728.png', '730.png', '731.png', '737.png', '738.png', '739.png', '742.png', '743.png', '747.png', '752.png', '753.png', '757.png', '758.png', '760.png', '764.png', '765.png', '768.png', '769.png', '775.png', '779.png', '780.png', '791.png', '792.png', '793.png', '795.png', '796.png', '797.png', '800.png', '802.png', '803.png', '805.png', '810.png', '811.png', '812.png', '813.png', '814.png', '815.png', '816.png', '817.png', '818.png', '821.png', '823.png', '824.png', '825.png', '828.png', '829.png', '831.png', '832.png', '833.png', '834.png', '835.png', '838.png', '839.png', '840.png', '841.png', '843.png', '847.png', '848.png', '850.png', '852.png', '853.png', '854.png', '855.png', '861.png', '862.png', '863.png', '864.png', '865.png', '866.png', '867.png', '868.png', '869.png', '870.png', '871.png', '873.png', '874.png', '875.png', '879.png', '880.png', '881.png', '886.png', '887.png', '891.png', '893.png', '895.png', '896.png', '899.png', '900.png', '901.png', '905.png', '906.png', '907.png', '909.png', '91.png', '910.png', '912.png', '913.png', '914.png', '915.png', '917.png', '919.png', '920.png', '924.png', '925.png', '926.png', '927.png', '928.png', '929.png', '930.png', '931.png', '934.png', '935.png', '936.png', '937.png', '938.png', '939.png', '941.png', '943.png', '944.png', '945.png', '946.png', '947.png', '949.png', '95.png', '950.png', '956.png', '957.png', '960.png', '961.png', '962.png', '964.png', '965.png', '966.png', '967.png', '969.png', '970.png', '973.png', '974.png', '975.png', '977.png', '978.png', '979.png', '982.png', '983.png', '984.png', '985.png', '988.png', '989.png', '990.png', '991.png', '992.png', '995.png', '996.png', '998.png']\n"
     ]
    }
   ],
   "source": [
    "\n",
    "input_filename = input(\"Enter the filename of the image to classify: \")\n",
    "path_to_folder = \"C:/Users/vnshe/OneDrive/Documents/test\"\n",
    "\n",
    "img = Image.open(os.path.join(path_to_folder, input_filename))\n",
    "img1 = img.resize((100,100))\n",
    "\n",
    "img_array = np.array(img1)\n",
    "\n",
    "img_array_flat = img_array.flatten()\n",
    "\n",
    "\n",
    "input_label = kmeans.predict([img_array_flat])[0]\n",
    "\n",
    "\n",
    "print(f\"The input image belongs to cluster {input_label}\")\n",
    "print(f\"The filenames in cluster {input_label} are: {cluster_filenames[input_label]}\")"
   ]
  }
 ],
 "metadata": {
  "kernelspec": {
   "display_name": "Python 3 (ipykernel)",
   "language": "python",
   "name": "python3"
  },
  "language_info": {
   "codemirror_mode": {
    "name": "ipython",
    "version": 3
   },
   "file_extension": ".py",
   "mimetype": "text/x-python",
   "name": "python",
   "nbconvert_exporter": "python",
   "pygments_lexer": "ipython3",
   "version": "3.9.13"
  },
  "toc-autonumbering": false
 },
 "nbformat": 4,
 "nbformat_minor": 5
}
